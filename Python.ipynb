{
 "cells": [
  {
   "cell_type": "code",
   "execution_count": 2,
   "metadata": {
    "scrolled": false
   },
   "outputs": [
    {
     "name": "stdout",
     "output_type": "stream",
     "text": [
      "enter first number-10\n",
      "enter second number-25\n",
      "250\n",
      "enter third number65\n",
      "enter fourth number54\n",
      "3510\n"
     ]
    }
   ],
   "source": [
    "number = input(\"enter first number-\")\n",
    "number2= input(\"enter second number-\")\n",
    "e=int(number)\n",
    "t=int(number2)\n",
    "z=e*t\n",
    "\n",
    "#x=number*number2\n",
    "print(z)\n",
    "def x(a,b):\n",
    "    c=a*b\n",
    "    if (c>1000):\n",
    "        c=a*b\n",
    "    else:\n",
    "        c=a+b\n",
    "    print(c)\n",
    "number3 = input(\"enter third number\")\n",
    "number4= input(\"enter fourth number\")\n",
    "e=int(number3)\n",
    "t=int(number4)    \n",
    "x(e,t)"
   ]
  },
  {
   "cell_type": "code",
   "execution_count": 1,
   "metadata": {},
   "outputs": [
    {
     "name": "stdout",
     "output_type": "stream",
     "text": [
      "11\n",
      "13\n",
      "17\n",
      "19\n"
     ]
    }
   ],
   "source": [
    "#prime number-range\n",
    "n1=10\n",
    "n2=20\n",
    "for i in range(n1,n2+1):\n",
    "    for j in range(2,i):\n",
    "        if i%j==0:\n",
    "            break\n",
    "    else:\n",
    "        print(i)\n",
    "#prime number-single         \n",
    "x=int(input(\"enter a number to check if its prime or not--\"))\n",
    "for v in range(2,x):\n",
    "        if x%v==0:\n",
    "            print(x,\"is not prime\")\n",
    "            break\n",
    "else:\n",
    "        print(x,\"is prime\")"
   ]
  },
  {
   "cell_type": "code",
   "execution_count": 2,
   "metadata": {},
   "outputs": [
    {
     "name": "stdout",
     "output_type": "stream",
     "text": [
      "[1, 2, 3]\n",
      "1 2\n",
      "2 2\n",
      "3 2\n",
      "[2, 2, 2]\n"
     ]
    }
   ],
   "source": [
    "d=[1,2,3]\n",
    "print(d)\n",
    "for v in range(len(d)):\n",
    "    print(d[v],end=\" \")\n",
    "    d[v]=2\n",
    "    print(d[v])\n",
    "print(d)\n",
    "    \n",
    "    \n",
    "    "
   ]
  },
  {
   "cell_type": "code",
   "execution_count": 35,
   "metadata": {},
   "outputs": [
    {
     "name": "stdout",
     "output_type": "stream",
     "text": [
      "[34, 34, 34, 34]\n",
      "4\n"
     ]
    }
   ],
   "source": [
    "d=[34,34,34,34,54,44,34]\n",
    "d2=[]\n",
    "i=0\n",
    "y=d[0]\n",
    "while(y==34):\n",
    "    d2.append(y)\n",
    "    i=i+1\n",
    "    y=d[i]\n",
    "print(d2)\n",
    "l=len(d2)\n",
    "print(l)\n",
    "    "
   ]
  },
  {
   "cell_type": "code",
   "execution_count": 61,
   "metadata": {},
   "outputs": [
    {
     "name": "stdout",
     "output_type": "stream",
     "text": [
      "enter the number u want the count of5\n",
      "enter the numbers in the list4\n",
      "enter the numbers in the list5\n",
      "enter the numbers in the list5\n",
      "2\n"
     ]
    }
   ],
   "source": [
    "number=input(\"enter the number u want the count of\")\n",
    "v=int(number)\n",
    "\n",
    "number2=input(\"enter the numbers in the list\")\n",
    "x1=int(number2)\n",
    "number3=input(\"enter the numbers in the list\")\n",
    "x2=int(number3)\n",
    "number4=input(\"enter the numbers in the list\")\n",
    "x3=int(number4)\n",
    "d=[x1,x2,x3]\n",
    "#d=[34,34,34,35,34,34,34]\n",
    "c=0\n",
    "f=len(d)\n",
    "for i in range(f):\n",
    "    if(d[i]==v):\n",
    "        c=c+1\n",
    "    else:\n",
    "        pass\n",
    "print(c)"
   ]
  },
  {
   "cell_type": "code",
   "execution_count": 58,
   "metadata": {},
   "outputs": [
    {
     "data": {
      "text/plain": [
       "'C:\\\\Users\\\\anime'"
      ]
     },
     "execution_count": 58,
     "metadata": {},
     "output_type": "execute_result"
    }
   ],
   "source": [
    "pwd"
   ]
  },
  {
   "cell_type": "code",
   "execution_count": 4,
   "metadata": {},
   "outputs": [
    {
     "name": "stdout",
     "output_type": "stream",
     "text": [
      "enter range15\n",
      "0 0\n",
      "1 1\n",
      "2 3\n",
      "3 6\n",
      "4 10\n",
      "5 15\n",
      "6 21\n",
      "7 28\n",
      "8 36\n",
      "9 45\n",
      "10 55\n",
      "11 66\n",
      "12 78\n",
      "13 91\n",
      "14 105\n",
      "total sum is 105\n"
     ]
    }
   ],
   "source": [
    "##sum of numbers in a range \"a\"\n",
    "x=input(\"enter range\")\n",
    "a=int(x)\n",
    "\n",
    "temp=0\n",
    "for i in range(a):\n",
    "    sum=i+temp\n",
    "    print(i,sum)\n",
    "    temp=sum\n",
    "\n",
    "print(\"total sum is\",sum)"
   ]
  },
  {
   "cell_type": "code",
   "execution_count": 80,
   "metadata": {},
   "outputs": [
    {
     "name": "stdout",
     "output_type": "stream",
     "text": [
      "enter numbers in spaces45 55 10\n",
      "All entered numbers  ['45', '55', '10']\n",
      "sum is 110 average is 36.666666666666664\n"
     ]
    }
   ],
   "source": [
    "##Split example in list\n",
    "##sum example \n",
    "##average exapmle\n",
    "##notes:use int(v) \n",
    "\n",
    "x=input(\"enter numbers in spaces\")\n",
    "x1=x.split()\n",
    "\n",
    "sum1=0\n",
    "old=0\n",
    "print(\"All entered numbers \", x1)\n",
    "\n",
    "for v in x1:\n",
    "    sum1=int(v)+old ##use sum1+=int(v) here you can skip old mentioning \"old\"\n",
    "    \n",
    "    old =sum1\n",
    "\n",
    "average=sum1/len(x1)\n",
    "print(\"sum is\",sum1,\"average is\",average)"
   ]
  },
  {
   "cell_type": "code",
   "execution_count": 86,
   "metadata": {},
   "outputs": [
    {
     "name": "stdout",
     "output_type": "stream",
     "text": [
      "Addition of two Matrix In Python\n",
      "[21, 27, 22]\n",
      "[28, 19, 27]\n"
     ]
    }
   ],
   "source": [
    "matrixOne = [[6,9,11],\n",
    "    [2 ,3,8]]\n",
    "\n",
    "matrixTwo = [[15,18,11],\n",
    "    [26,16,19]]\n",
    "\n",
    "result = [[0,0,0],\n",
    "         [0,0,0]]\n",
    "\n",
    "# First iterate rows\n",
    "for i in range(len(matrixOne)):\n",
    "   # Second iterate columns\n",
    "   for j in range(len(matrixOne[0])):\n",
    "            result[i][j] = matrixOne[i][j] + matrixTwo[i][j]\n",
    "print(\"Addition of two Matrix In Python\")\n",
    "for res in result:\n",
    "    print(res)"
   ]
  },
  {
   "cell_type": "code",
   "execution_count": 105,
   "metadata": {},
   "outputs": [
    {
     "name": "stdout",
     "output_type": "stream",
     "text": [
      "True\n"
     ]
    }
   ],
   "source": [
    "##Question 5: Given a list of numbers,\n",
    "##return True if first and last number of a list is same\n",
    "\n",
    "d=[10, 20, 30, 40, 10]\n",
    "\n",
    "    \n",
    "if(d[0]==d[-1]):\n",
    "    print(True)\n",
    "else:\n",
    "    print(False)\n"
   ]
  },
  {
   "cell_type": "code",
   "execution_count": 5,
   "metadata": {},
   "outputs": [
    {
     "name": "stdout",
     "output_type": "stream",
     "text": [
      "enter the number you want to add in a list in spaces4 4 5 6\n",
      "['4', '4', '5', '6']\n",
      "2\n"
     ]
    }
   ],
   "source": [
    "#count certain number in  a user define input list\n",
    "#use of function \n",
    "#use of for and if\n",
    "def g():\n",
    "    x=input(\"enter the number you want to add in a list in spaces\")\n",
    "    global x1\n",
    "    x1=x.split()\n",
    "\n",
    "    return x1\n",
    "\n",
    "print(g())  ##this print() will print the return value from function    \n",
    "c=0\n",
    "for i in range(len(x1)):\n",
    "    if(int(x1[i])==4):\n",
    "        c=c+1\n",
    "    else:\n",
    "        pass\n",
    "print(c)"
   ]
  },
  {
   "cell_type": "code",
   "execution_count": 7,
   "metadata": {},
   "outputs": [
    {
     "name": "stdout",
     "output_type": "stream",
     "text": [
      "5\n"
     ]
    },
    {
     "data": {
      "text/plain": [
       "34"
      ]
     },
     "execution_count": 7,
     "metadata": {},
     "output_type": "execute_result"
    }
   ],
   "source": [
    "##simple exapmle of a funtion and how to use return...\n",
    "##return actually sends output and is visible if print is used for default funtion.\n",
    "##difference between printing and not printing a function if return value is mentioned\n",
    "def c(a,b):\n",
    "    v=a+b\n",
    "    return v\n",
    "print(c(2,3))\n",
    "\n",
    "def v():\n",
    "    d=34\n",
    "    return d\n",
    "v()\n"
   ]
  },
  {
   "cell_type": "code",
   "execution_count": 111,
   "metadata": {},
   "outputs": [
    {
     "name": "stdout",
     "output_type": "stream",
     "text": [
      "enter a string--animesh\n",
      "a\n",
      "i\n",
      "e\n",
      "h\n"
     ]
    }
   ],
   "source": [
    "##displaying even index characters in a list,string etc\n",
    "list1=input(\"enter a string--\")\n",
    "x=str(list1)\n",
    "for i in range(0,len(x),2):\n",
    "    print(x[i])"
   ]
  },
  {
   "cell_type": "code",
   "execution_count": 114,
   "metadata": {},
   "outputs": [
    {
     "name": "stdout",
     "output_type": "stream",
     "text": [
      "enter a string---animesh\n",
      "enter an integer2\n",
      "imesh\n"
     ]
    }
   ],
   "source": [
    "##Given a string and an integer number n, remove characters from a string starting from zero up to n and return a new string\n",
    "\n",
    "list1=input(\"enter a string---\")\n",
    "x=str(list1)\n",
    "integ=input(\"enter an integer\")\n",
    "i=int(integ)\n",
    "\n",
    "print(x[i:])\n",
    "    \n",
    "    \n"
   ]
  },
  {
   "cell_type": "code",
   "execution_count": 115,
   "metadata": {},
   "outputs": [
    {
     "name": "stdout",
     "output_type": "stream",
     "text": [
      "enter integers in spaces10 20 32\n",
      "10\n",
      "20\n"
     ]
    }
   ],
   "source": [
    "##Given a list of numbers, Iterate it and print only those numbers which are divisible of 5\n",
    "\n",
    "List1=input(\"enter integers in spaces\")\n",
    "listy=List1.split()\n",
    "for v in range(len(listy)):\n",
    "    if(int(listy[v])%5==0):\n",
    "        print(listy[v])\n",
    "    else:\n",
    "        pass\n",
    "\n",
    "\n",
    "\n"
   ]
  },
  {
   "cell_type": "code",
   "execution_count": 117,
   "metadata": {},
   "outputs": [
    {
     "name": "stdout",
     "output_type": "stream",
     "text": [
      "enter strings in spacesEmma is good developer. Emma is a writer\n",
      "2\n"
     ]
    }
   ],
   "source": [
    "##Question 7: Return the total count of sub-string “Emma” appears in the given string\n",
    "\n",
    "List1=input(\"enter strings in spaces\")\n",
    "listy=List1.split()\n",
    "c=0\n",
    "for v in range(len(listy)):\n",
    "    if(str(listy[v])==\"Emma\"):\n",
    "        c=c+1\n",
    "    else:\n",
    "        pass\n",
    "print(c)"
   ]
  },
  {
   "cell_type": "code",
   "execution_count": 189,
   "metadata": {},
   "outputs": [
    {
     "name": "stdout",
     "output_type": "stream",
     "text": [
      "\n",
      "\n",
      "1    \n",
      "\n",
      "2    2    \n",
      "\n",
      "3    3    3    \n",
      "\n",
      "4    4    4    4    \n",
      "\n",
      "5    5    5    5    5    \n",
      "\n",
      "6    6    6    6    6    6    \n",
      "\n",
      "7    7    7    7    7    7    7    \n",
      "\n",
      "8    8    8    8    8    8    8    8    \n",
      "\n",
      "9    9    9    9    9    9    9    9    9    \n",
      "\n"
     ]
    }
   ],
   "source": [
    "##Print the following pattern\n",
    "#1 \n",
    "#2 2 \n",
    "#3 3 3 \n",
    "#4 4 4 4 \n",
    "#5 5 5 5 5\n",
    "for num in range(10):\n",
    "    for i in range(num):\n",
    "        print(num,end=\"    \") \n",
    "    print(\"\\n\")\n"
   ]
  },
  {
   "cell_type": "code",
   "execution_count": 257,
   "metadata": {},
   "outputs": [
    {
     "name": "stdout",
     "output_type": "stream",
     "text": [
      "\n",
      "\n",
      "1 \n",
      "1 2 \n",
      "1 2 3 \n",
      "1 2 3 4 \n"
     ]
    }
   ],
   "source": [
    "\n",
    "for num in range(6):\n",
    "    for i in range(1,num):\n",
    "        print(i, end=' ')\n",
    "    print()"
   ]
  },
  {
   "cell_type": "code",
   "execution_count": 281,
   "metadata": {},
   "outputs": [
    {
     "name": "stdout",
     "output_type": "stream",
     "text": [
      "\n",
      "1 \n",
      "2 1 \n",
      "3 2 1 \n",
      "4 3 2 1 \n",
      "5 4 3 2 1 \n"
     ]
    }
   ],
   "source": [
    "for num in range(6):\n",
    "    for i in range(num,0,-1):\n",
    "        print(i, end=' ')\n",
    "    print()"
   ]
  },
  {
   "cell_type": "code",
   "execution_count": 263,
   "metadata": {
    "scrolled": true
   },
   "outputs": [
    {
     "name": "stdout",
     "output_type": "stream",
     "text": [
      "1 2 3 4 5 \n",
      "1 2 3 4 \n",
      "1 2 3 \n",
      "1 2 \n",
      "1 \n",
      "\n"
     ]
    }
   ],
   "source": [
    "for num in range(6,0,-1):\n",
    "    for i in range(1,num):\n",
    "        print(i, end=' ')\n",
    "    print()"
   ]
  },
  {
   "cell_type": "code",
   "execution_count": 265,
   "metadata": {
    "scrolled": true
   },
   "outputs": [
    {
     "name": "stdout",
     "output_type": "stream",
     "text": [
      "6 6 6 6 6 6 \n",
      "5 5 5 5 5 \n",
      "4 4 4 4 \n",
      "3 3 3 \n",
      "2 2 \n",
      "1 \n"
     ]
    }
   ],
   "source": [
    "for num in range(6,0,-1):\n",
    "    for i in range(num):\n",
    "        print(num, end=' ')\n",
    "    print()"
   ]
  },
  {
   "cell_type": "code",
   "execution_count": 279,
   "metadata": {
    "scrolled": false
   },
   "outputs": [
    {
     "name": "stdout",
     "output_type": "stream",
     "text": [
      "64 32 16 8 4 2 1 \n",
      "32 16 8 4 2 1 \n",
      "16 8 4 2 1 \n",
      "8 4 2 1 \n",
      "4 2 1 \n",
      "2 1 \n",
      "1 \n"
     ]
    }
   ],
   "source": [
    "for num in range(6,-1,-1):\n",
    "    for i in range(num,-1,-1):\n",
    "        print(2**i, end=' ')\n",
    "    print()"
   ]
  },
  {
   "cell_type": "code",
   "execution_count": 284,
   "metadata": {},
   "outputs": [
    {
     "name": "stdout",
     "output_type": "stream",
     "text": [
      "\n",
      "0 \n",
      "0 2 \n",
      "0 3 6 \n",
      "0 4 8 12 \n",
      "0 5 10 15 20 \n"
     ]
    }
   ],
   "source": [
    "for num in range(6):\n",
    "    for i in range(num):\n",
    "        print(i*num, end=' ')\n",
    "    print()"
   ]
  },
  {
   "cell_type": "code",
   "execution_count": 286,
   "metadata": {},
   "outputs": [
    {
     "name": "stdout",
     "output_type": "stream",
     "text": [
      "\n",
      "* \n",
      "* * \n",
      "* * * \n",
      "* * * * \n",
      "* * * * * \n"
     ]
    }
   ],
   "source": [
    "for num in range(6):\n",
    "    for i in range(num,0,-1):\n",
    "        print(\"*\", end=' ')\n",
    "    print()"
   ]
  },
  {
   "cell_type": "code",
   "execution_count": 288,
   "metadata": {},
   "outputs": [
    {
     "name": "stdout",
     "output_type": "stream",
     "text": [
      "8\n"
     ]
    }
   ],
   "source": [
    "def exponent(base, exp):\n",
    "    c=base**exp\n",
    "    return c\n",
    "print(exponent(2,3))\n",
    "    "
   ]
  },
  {
   "cell_type": "code",
   "execution_count": 12,
   "metadata": {},
   "outputs": [
    {
     "name": "stdout",
     "output_type": "stream",
     "text": [
      "10\n"
     ]
    }
   ],
   "source": [
    "#decimat to octal\n",
    "print('%o' % 8)"
   ]
  },
  {
   "cell_type": "code",
   "execution_count": 22,
   "metadata": {},
   "outputs": [
    {
     "name": "stdout",
     "output_type": "stream",
     "text": [
      "enter a binary number1000\n",
      "8\n",
      "enter a hexadecimal numberF\n",
      "15\n",
      "enter a octal number10\n",
      "8\n",
      "1000\n",
      "1000\n"
     ]
    }
   ],
   "source": [
    "#Anybase TO DECIMAL\n",
    "a=int(input(\"enter a binary number\"),2)\n",
    "print(a)\n",
    "b=int(input(\"enter a hexadecimal number\"),16)\n",
    "print(b)\n",
    "c=int(input(\"enter a octal number\"),8)  ## 2 WILL TELL THAT THE INTEGER/INPUT IS BINARY AND THE PRINTED FORM WILL BE IN DECIMAL FORMAT WHICH IS DEFAULT.   \n",
    "print(c)\n",
    "\n",
    "\n",
    "##DECIMAL TO ANY BASE\n",
    "#HERE YOU CAN DEFINE A FUNCTION OR REMEBER: BINARY=BIN,OCTAL=OCT,HEXADECIMAL=HEX\n",
    "c=int(bin(8)[2:])\n",
    "print(c)\n",
    "#using format\n",
    "print (format(8, 'b'))"
   ]
  },
  {
   "cell_type": "code",
   "execution_count": 317,
   "metadata": {},
   "outputs": [
    {
     "name": "stdout",
     "output_type": "stream",
     "text": [
      "458.89\n"
     ]
    }
   ],
   "source": [
    "print('%.2f' % 458.8898)"
   ]
  },
  {
   "cell_type": "code",
   "execution_count": 337,
   "metadata": {},
   "outputs": [
    {
     "name": "stdout",
     "output_type": "stream",
     "text": [
      "enter numbers in spaces55.5 45.69 85.36\n",
      "55.5 45.69 85.36 "
     ]
    }
   ],
   "source": [
    "#print float values using split and user input\n",
    "\n",
    "x=input(\"enter numbers in spaces\")\n",
    "y=x.split()\n",
    "for v in y:\n",
    "    \n",
    "     print(float(v),end=\" \")\n"
   ]
  },
  {
   "cell_type": "code",
   "execution_count": 334,
   "metadata": {},
   "outputs": [
    {
     "name": "stdout",
     "output_type": "stream",
     "text": [
      "Enter three stringgg hh ll\n",
      "gg hh ll\n"
     ]
    }
   ],
   "source": [
    "##use of string\n",
    "\n",
    "str1,str2,str3 = input(\"Enter three string\").split()\n",
    "print(str1,str2,str3)"
   ]
  },
  {
   "cell_type": "code",
   "execution_count": 335,
   "metadata": {},
   "outputs": [
    {
     "name": "stdout",
     "output_type": "stream",
     "text": [
      "I have 1000 dollars so I can buy 3 football for 450.00 dollars.\n"
     ]
    }
   ],
   "source": [
    "#display above data using string.format() method\n",
    "#I have 1000 dollars so I can buy 3 football for 450.00 dollars.\n",
    "\n",
    "\n",
    "quantity = 3\n",
    "totalMoney = 1000\n",
    "price = 450\n",
    "statement1 = \"I have {1} dollars so I can buy {0} football for {2:.2f} dollars.\"\n",
    "print(statement1.format(quantity, totalMoney, price))"
   ]
  },
  {
   "cell_type": "code",
   "execution_count": 12,
   "metadata": {},
   "outputs": [
    {
     "name": "stdout",
     "output_type": "stream",
     "text": [
      "enter a binary number14\n",
      "12\n"
     ]
    }
   ],
   "source": [
    "x=input(\"enter a binary number\")\n",
    "c=int(x,2)  \n",
    "\n",
    "print(c)\n"
   ]
  },
  {
   "cell_type": "code",
   "execution_count": 13,
   "metadata": {},
   "outputs": [
    {
     "name": "stdout",
     "output_type": "stream",
     "text": [
      "enter the decimal number54\n",
      "0x36\n"
     ]
    }
   ],
   "source": [
    "x=input(\"enter the decimal number\")\n",
    "print(hex(int(x)))"
   ]
  },
  {
   "cell_type": "code",
   "execution_count": 19,
   "metadata": {},
   "outputs": [
    {
     "name": "stdout",
     "output_type": "stream",
     "text": [
      "swapping of 3,4\n",
      "4 3\n",
      "3 4\n",
      "4 3\n"
     ]
    }
   ],
   "source": [
    "##swap\n",
    "##temp method\n",
    "print(\"swapping of 3,4\")\n",
    "a,b=3,4\n",
    "temp=a\n",
    "a=b\n",
    "b=temp\n",
    "print(a,b)\n",
    "\n",
    "##formula method\n",
    "\n",
    "a=a+b\n",
    "b=a-b\n",
    "a=a-b\n",
    "print(a,b)\n",
    "\n",
    "##python method\n",
    "\n",
    "a,b=b,a\n",
    "print(a,b)"
   ]
  },
  {
   "cell_type": "code",
   "execution_count": 34,
   "metadata": {},
   "outputs": [
    {
     "name": "stdout",
     "output_type": "stream",
     "text": [
      "-16\n",
      "12\n",
      "13\n",
      "1\n",
      "5.0\n"
     ]
    }
   ],
   "source": [
    "##Compliment of 12\n",
    "\n",
    "##13 second compliment is same as 12's first compliment\n",
    "\n",
    "\n",
    "##BIT operators\n",
    "\n",
    "## import math module\n",
    "\n",
    "print(~15)\n",
    "\n",
    "a=12\n",
    "b=13\n",
    "print(a & b) ##and\n",
    "print(a | b) ##or\n",
    "print(a ^ b) ##xor\n",
    "\n",
    "import math\n",
    "x=math.sqrt(25)\n",
    "print(x)"
   ]
  },
  {
   "cell_type": "markdown",
   "metadata": {},
   "source": [
    "#Loop exercises# Loop exercises# Loop exercises# Loop exercises# Loop exercises\n",
    "#Loop exercises# Loop exercises\n",
    "#Loop exercises# Loop exercises# Loop exercises# Loop exercises# Loop exercises¶\n",
    "#Loop exercises# Loop exercises# Loop exercises# Loop exercises# Loop exercises# Loop exercises# Loop exercises"
   ]
  },
  {
   "cell_type": "code",
   "execution_count": 1,
   "metadata": {},
   "outputs": [
    {
     "name": "stdout",
     "output_type": "stream",
     "text": [
      "0\n",
      "1\n",
      "2\n",
      "3\n",
      "4\n",
      "5\n",
      "6\n",
      "7\n",
      "8\n",
      "9\n",
      "10\n"
     ]
    }
   ],
   "source": [
    "i=0\n",
    "while(i<=10):\n",
    "    print(i)\n",
    "    i=i+1\n"
   ]
  },
  {
   "cell_type": "code",
   "execution_count": 4,
   "metadata": {},
   "outputs": [
    {
     "name": "stdout",
     "output_type": "stream",
     "text": [
      "\n",
      "\n",
      "1 \n",
      "1 2 \n",
      "1 2 3 \n",
      "1 2 3 4 \n",
      "1 2 3 4 5 \n"
     ]
    }
   ],
   "source": [
    "for num in range(7):\n",
    "    for i in range(1,num):\n",
    "        print(i,end=\" \")\n",
    "    print(\"\")"
   ]
  },
  {
   "cell_type": "code",
   "execution_count": 10,
   "metadata": {},
   "outputs": [
    {
     "name": "stdout",
     "output_type": "stream",
     "text": [
      "enter a number10\n",
      "55\n"
     ]
    }
   ],
   "source": [
    "num=input(\"enter a number\")\n",
    "i=int(num)\n",
    "sum1=0\n",
    "for v in range(1,i+1):\n",
    "    sum1+=v\n",
    "print(sum1)\n",
    "    "
   ]
  },
  {
   "cell_type": "code",
   "execution_count": 14,
   "metadata": {},
   "outputs": [
    {
     "name": "stdout",
     "output_type": "stream",
     "text": [
      "enter5\n",
      "5\n",
      "10\n",
      "15\n",
      "20\n",
      "25\n",
      "30\n",
      "35\n",
      "40\n",
      "45\n",
      "50\n"
     ]
    }
   ],
   "source": [
    "a=int(input(\"enter\"))\n",
    "for v in range(1,11):\n",
    "    x=a*v\n",
    "    print(x)"
   ]
  },
  {
   "cell_type": "code",
   "execution_count": 18,
   "metadata": {},
   "outputs": [
    {
     "name": "stdout",
     "output_type": "stream",
     "text": [
      "enter number in spaces10 150 200\n",
      "10\n",
      "150\n"
     ]
    }
   ],
   "source": [
    "## Given a list iterate it and display numbers which are divisible by 5 and if you find number greater than 150 stop the loop iteration\n",
    "#x = [12, 15, 32, 42, 55, 75, 122, 132, 150, 180, 200]\n",
    "\n",
    "\n",
    "\n",
    "x=input(\"enter number in spaces\")\n",
    "y=x.split()\n",
    "for v in y:\n",
    "    if(int(v)%5==0 and int(v)<=150):\n",
    "        print(v)"
   ]
  },
  {
   "cell_type": "code",
   "execution_count": 9,
   "metadata": {},
   "outputs": [
    {
     "name": "stdout",
     "output_type": "stream",
     "text": [
      "enter a number458524\n",
      "6\n",
      "6\n"
     ]
    }
   ],
   "source": [
    "x=input(\"enter a number\")\n",
    "x2=len(x)\n",
    "print(x2)\n",
    "c=0\n",
    "for v in range(x2):\n",
    "    c=c+1\n",
    "print(c)\n"
   ]
  },
  {
   "cell_type": "code",
   "execution_count": 16,
   "metadata": {},
   "outputs": [
    {
     "name": "stdout",
     "output_type": "stream",
     "text": [
      "5 4 3 2 1 \n",
      "4 3 2 1 \n",
      "3 2 1 \n",
      "2 1 \n",
      "1 \n"
     ]
    }
   ],
   "source": [
    "for num in range(5,0,-1):\n",
    "    for i in range(num,0,-1):\n",
    "        print(i,end=\" \")\n",
    "    print()"
   ]
  },
  {
   "cell_type": "code",
   "execution_count": 27,
   "metadata": {},
   "outputs": [
    {
     "name": "stdout",
     "output_type": "stream",
     "text": [
      "enter number in spaces10 20 30\n",
      "3\n",
      "['30', '20', '10']\n"
     ]
    }
   ],
   "source": [
    "x=input(\"enter number in spaces\")\n",
    "y=x.split()\n",
    "c=len(y)\n",
    "print(c)\n",
    "z=[]\n",
    "for v in range(c-1,-1,-1):\n",
    "    #print(y[v])\n",
    "    z.append(y[v])\n",
    "print(z)\n",
    "    \n",
    "    "
   ]
  },
  {
   "cell_type": "code",
   "execution_count": 29,
   "metadata": {},
   "outputs": [
    {
     "name": "stdout",
     "output_type": "stream",
     "text": [
      "0\n",
      "1\n",
      "2\n",
      "3\n",
      "4\n",
      "done!\n"
     ]
    }
   ],
   "source": [
    "for i in range(5):\n",
    "    print(i)\n",
    "else:\n",
    "    print(\"done!\")"
   ]
  },
  {
   "cell_type": "code",
   "execution_count": 35,
   "metadata": {},
   "outputs": [
    {
     "name": "stdout",
     "output_type": "stream",
     "text": [
      "enter starting number0\n",
      "enter ending number15\n",
      "3 is a prime number\n",
      "5 is a prime number\n",
      "7 is a prime number\n",
      "11 is a prime number\n",
      "13 is a prime number\n"
     ]
    }
   ],
   "source": [
    "##prime number\n",
    "##my method\n",
    "\n",
    "\n",
    "x=int(input(\"enter starting number\"))\n",
    "y=int(input(\"enter ending number\"))\n",
    "c=0\n",
    "for v in range(x,y+1):\n",
    "    for i in range(2,v):\n",
    "        if(v%i!=0):\n",
    "            c=c+1\n",
    "        else:\n",
    "            pass\n",
    "        if(c==v-2):\n",
    "            print(v,\"is a prime number\")\n",
    "        else:\n",
    "            pass\n",
    "    c=0\n",
    "\n",
    "        \n"
   ]
  },
  {
   "cell_type": "code",
   "execution_count": 47,
   "metadata": {},
   "outputs": [
    {
     "name": "stdout",
     "output_type": "stream",
     "text": [
      "0 1 1 2 3 5 8 13 21 34 "
     ]
    }
   ],
   "source": [
    "##fibonacci series\n",
    "x=0\n",
    "y=1\n",
    "for i in range(10):\n",
    "    print(x,end=\" \")\n",
    "    total=x+y\n",
    "    x=y\n",
    "    y=total\n",
    "    "
   ]
  },
  {
   "cell_type": "code",
   "execution_count": 49,
   "metadata": {
    "scrolled": true
   },
   "outputs": [
    {
     "name": "stdout",
     "output_type": "stream",
     "text": [
      "10\n",
      "20\n",
      "30\n",
      "40\n",
      "50\n",
      "60\n",
      "70\n",
      "80\n",
      "90\n",
      "100\n"
     ]
    }
   ],
   "source": [
    "##multiplication table\n",
    "v=10\n",
    "for i in range(1,v+1):\n",
    "    x=v*i\n",
    "    print(x)\n",
    "    "
   ]
  },
  {
   "cell_type": "code",
   "execution_count": 47,
   "metadata": {},
   "outputs": [
    {
     "name": "stdout",
     "output_type": "stream",
     "text": [
      "24\n",
      "120\n"
     ]
    }
   ],
   "source": [
    "##factorial\n",
    "\n",
    "i=4\n",
    "b=i\n",
    "v=b-1\n",
    "for g in range(1,i):\n",
    "    x=b*v\n",
    "    v=v-1\n",
    "    b=x\n",
    "print(x)\n",
    "\n",
    "##factorial using recursion\n",
    "\n",
    "def fact(n):\n",
    "    if n==0:\n",
    "        return 1\n",
    "    return n * fact(n-1)\n",
    "print(fact(5))\n",
    "    \n",
    "    "
   ]
  },
  {
   "cell_type": "code",
   "execution_count": 62,
   "metadata": {},
   "outputs": [
    {
     "name": "stdout",
     "output_type": "stream",
     "text": [
      "20 40 60 80 100 "
     ]
    }
   ],
   "source": [
    "##even position\n",
    "## x[0::2] selects every second number staring with index 0\n",
    "## x[1::3] selects every third number starting with index 1\n",
    "x = [10, 20, 30, 40, 50, 60, 70, 80, 90, 100]\n",
    "for i in x[1::2]:\n",
    "    print(i, end=\" \")\n"
   ]
  },
  {
   "cell_type": "code",
   "execution_count": 67,
   "metadata": {},
   "outputs": [
    {
     "name": "stdout",
     "output_type": "stream",
     "text": [
      "2 22 222 2222 22222 \n",
      "Sum of above series is: 24690\n"
     ]
    }
   ],
   "source": [
    "##sum of serries\n",
    "#2+22+222+2222+22222\n",
    "\n",
    "number_of_terms = 5\n",
    "start = 2\n",
    "sum = 0\n",
    "for i in range(0, number_of_terms):\n",
    "    print(start, end=\" \")\n",
    "    sum += start\n",
    "    start = (start * 10) + 2\n",
    "print(\"\\nSum of above series is:\", sum)"
   ]
  },
  {
   "cell_type": "code",
   "execution_count": 8,
   "metadata": {
    "scrolled": true
   },
   "outputs": [
    {
     "name": "stdout",
     "output_type": "stream",
     "text": [
      "12\n"
     ]
    }
   ],
   "source": [
    "def music(a,b):\n",
    "    global c\n",
    "    c=a+b\n",
    "    return c\n",
    "print(music(2,10))\n",
    "\n"
   ]
  },
  {
   "cell_type": "code",
   "execution_count": 34,
   "metadata": {},
   "outputs": [
    {
     "name": "stdout",
     "output_type": "stream",
     "text": [
      "107 is a prime number\n"
     ]
    }
   ],
   "source": [
    "##prime number\n",
    "##for else\n",
    "##break\n",
    "\n",
    "x=107\n",
    "for i in range(2,x):\n",
    "    if(x%i!=0):\n",
    "            continue\n",
    "    else:        \n",
    "            print(x,\"it is not prime number\")\n",
    "            break\n",
    "        \n",
    "else:\n",
    "        print(x,\"is a prime number\")\n",
    "        "
   ]
  },
  {
   "cell_type": "code",
   "execution_count": 46,
   "metadata": {},
   "outputs": [
    {
     "name": "stdout",
     "output_type": "stream",
     "text": [
      "7 is a prime number\n"
     ]
    }
   ],
   "source": [
    "9##easy prime number\n",
    "\n",
    "x=7\n",
    "for i in range(2,7):\n",
    "    if x%i == 0:\n",
    "        print(x,\"is not a prime number\")\n",
    "        break\n",
    "else:\n",
    "        print(x,\"is a prime number\")\n",
    "        "
   ]
  },
  {
   "cell_type": "code",
   "execution_count": 26,
   "metadata": {},
   "outputs": [
    {
     "name": "stdout",
     "output_type": "stream",
     "text": [
      "enter the number of candies you want11\n",
      "1 candy mili\n",
      "2 candy mili\n",
      "3 candy mili\n",
      "4 candy mili\n",
      "5 candy mili\n",
      "6 candy mili\n",
      "7 candy mili\n",
      "8 candy mili\n",
      "9 candy mili\n",
      "10 candy mili\n",
      "out of stock\n",
      "get lost now\n"
     ]
    }
   ],
   "source": [
    "## break \n",
    "\n",
    "available=10\n",
    "asking=int(input(\"enter the number of candies you want\"))\n",
    "i=1\n",
    "while i <= asking:\n",
    "        if i>available:\n",
    "            print(\"out of stock\")\n",
    "            break\n",
    "        print(i,\"candy mili\")\n",
    "        i+=1\n",
    "print(\"get lost now\")\n",
    "\n",
    "            \n",
    "\n",
    "        \n",
    "\n"
   ]
  },
  {
   "cell_type": "code",
   "execution_count": 9,
   "metadata": {},
   "outputs": [
    {
     "name": "stdout",
     "output_type": "stream",
     "text": [
      "enter starting number10\n",
      "enter the end number25\n",
      "10\n",
      "11\n",
      "13\n",
      "14\n",
      "16\n",
      "17\n",
      "19\n",
      "20\n",
      "22\n",
      "23\n"
     ]
    }
   ],
   "source": [
    "# continue\n",
    "\n",
    "x=int(input(\"enter starting number\"))\n",
    "y=int(input(\"enter the end number\"))\n",
    "for i in range(x,y):\n",
    "    if (i%3==0):\n",
    "        continue\n",
    "    print(i)\n"
   ]
  },
  {
   "cell_type": "code",
   "execution_count": 12,
   "metadata": {
    "scrolled": true
   },
   "outputs": [
    {
     "name": "stdout",
     "output_type": "stream",
     "text": [
      "we couldn't find your number\n"
     ]
    }
   ],
   "source": [
    "# for else\n",
    "x=[12,24,32]\n",
    "for i in range(len(x)):\n",
    "    if x[i]%11==0:\n",
    "        print(\"this is our number\")\n",
    "else:\n",
    "    print(\"we couldn't find your number\")"
   ]
  },
  {
   "cell_type": "code",
   "execution_count": 84,
   "metadata": {},
   "outputs": [
    {
     "name": "stdout",
     "output_type": "stream",
     "text": [
      "array('i', [-1, 2, 3])\n",
      "array('u', '#')\n",
      "array('i', [3, 2, -1])\n",
      "3\n",
      "\n",
      "3\n",
      "2\n",
      "-1\n",
      "\n",
      "3\n",
      "2\n",
      "-1\n",
      "\n",
      "array('i', [3, 2, -1])\n",
      "array('i', [9, 4, 1])\n"
     ]
    }
   ],
   "source": [
    "#array\n",
    "\n",
    "#import array as ar\n",
    "from array import *\n",
    "\n",
    "x=array('i',[-1,2,3])       #typecode-bB,h\n",
    "l=len(x)  \n",
    "print(x)\n",
    "\n",
    "y=array('u',[\"#\"])          #unicode-characters\n",
    "print(y)\n",
    "\n",
    "x.reverse()                 #this reverse is modifying array x            #method\n",
    "print(x)\n",
    "print(x[0])                 #prints/fetch particular element from array\n",
    "print()\n",
    "\n",
    "for i in range(l):         #prints/fetch particular element from array one by one.\n",
    "    print(x[i])\n",
    "print()    \n",
    "for e in x:\n",
    "    print(e)\n",
    "print()\n",
    "\n",
    "newarray=array(x.typecode,(a for a in x))   #copies the typecode and elements from array x\n",
    "newarray1=array(x.typecode,(a*a for a in x))\n",
    "print(newarray)\n",
    "print(newarray1)"
   ]
  },
  {
   "cell_type": "code",
   "execution_count": 91,
   "metadata": {},
   "outputs": [
    {
     "name": "stdout",
     "output_type": "stream",
     "text": [
      "enter the length of the array4\n",
      "enter the value25\n",
      "enter the value48\n",
      "enter the value96\n",
      "enter the value36\n",
      "array('i', [25, 48, 96, 36])\n",
      "enter the search value96\n",
      "2\n"
     ]
    }
   ],
   "source": [
    "# array input from user\n",
    "#append the elements of array of desired length from user\n",
    "#search the index of desired element from array\n",
    "from array import *\n",
    "x=array('i',[])\n",
    "l=int(input(\"enter the length of the array\"))\n",
    "for i in range(l):\n",
    "    k=int(input(\"enter the value\"))\n",
    "    x.append(k)                                 #append elements one by one\n",
    "print(x)\n",
    "\n",
    "search_no=int(input(\"enter the search value\"))\n",
    "print(x.index(search_no))                       #finds the index number of the desire search value"
   ]
  },
  {
   "cell_type": "code",
   "execution_count": 172,
   "metadata": {},
   "outputs": [
    {
     "name": "stdout",
     "output_type": "stream",
     "text": [
      "array('i', [1, 2, 3, 4]) array('i', [2, 4, 6, 8])\n",
      "1\n",
      "array('i', [4, 3, 2, 1, 4])\n"
     ]
    },
    {
     "data": {
      "text/plain": [
       "3"
      ]
     },
     "execution_count": 172,
     "metadata": {},
     "output_type": "execute_result"
    }
   ],
   "source": [
    "#methods of array=reverse,append,index\n",
    "from array import *\n",
    "x=array(\"i\",[1,2,3,4])\n",
    "y=array(x.typecode,(a*2 for a in x))\n",
    "print(x,y)\n",
    "print(x[0])\n",
    "x.reverse()      #method\n",
    "x\n",
    "z=4\n",
    "x.append(z)      #method\n",
    "print(x)\n",
    "x.index(1)       #method"
   ]
  },
  {
   "cell_type": "code",
   "execution_count": 151,
   "metadata": {},
   "outputs": [
    {
     "name": "stdout",
     "output_type": "stream",
     "text": [
      "int32\n",
      "[1 2 3 4]\n",
      "[ 0.  1.  2.  3.  4.  5.  6.  7.  8.  9. 10. 11. 12.]\n",
      "[1 1 1 1 1]\n",
      "y= [ 0  2  4  6  8 10]\n",
      "y= [ 5  7  9 11 13 15]\n",
      "u= 15\n",
      "v= [2.23606798 2.64575131 3.         3.31662479 3.60555128 3.87298335]\n",
      "z= [2.23606798 2.64575131 3.         3.31662479 3.60555128 3.87298335]\n",
      "z= [ 5  7  9 11 13 15]\n",
      "x is [[1 3]\n",
      " [4 6]\n",
      " [7 9]]\n",
      "2\n",
      "6\n",
      "(3, 2)\n",
      "flattten_x is y=> [1 3 4 6 7 9]\n",
      "reshaped of y is  [[1 3 4]\n",
      " [6 7 9]]\n",
      "3d matrix of y is [[[1]\n",
      "  [3]]\n",
      "\n",
      " [[4]\n",
      "  [6]]\n",
      "\n",
      " [[7]\n",
      "  [9]]]\n",
      "m is= [[1 3]\n",
      " [4 6]\n",
      " [7 9]]\n",
      "new m is= [[1 2 3]\n",
      " [4 5 6]]\n",
      "diagonal of m is= [1 5]\n",
      "minimum of matrix m is 1\n"
     ]
    }
   ],
   "source": [
    "#numpy\n",
    "#array([],int)\n",
    "#access the element: x[0],x[10] etc\n",
    "#linspace(start,stop_included,how many parts?) used to create array/vector as in matlab\n",
    "#logspace(start,stop_included,parts) here the elements are 10^start,10^stop etc\n",
    "#zeros(range,int_optional),\n",
    "#ones(range,int_optional)\n",
    "#arange(start,stop_excluded,steps)\n",
    "#addition- x+5 will add 5 to each element,x+y will add two arrays.\n",
    "#multiplication: x*2- will multiply each elemnt by 2.\n",
    "#multiplication: x*y is element wise multiplication.\n",
    "#dot(x,y)   _ it will give dot product of two arrays. ab+a2b2+a3b3...\n",
    "#funtions: max(x),min(x),sum(x),sin(x),cos(x),log(x),sqrt(x),\n",
    "#methods copy x=y.view() -shallow copy. meaning --changing values in y after the view command, the values in x will change as well\n",
    "#methods copy x=y.copy() -deep copy -no link after command\n",
    "#methods x.mean()-average,x.std()-std deviation\n",
    "\n",
    "\n",
    "\n",
    "from numpy import *\n",
    "\n",
    "x=array([1,2,3,4],int)\n",
    "print(x.dtype)\n",
    "print(x)\n",
    "\n",
    "x=linspace(0,12,13)      \n",
    "print(x)\n",
    "\n",
    "x=ones(5,int)\n",
    "print(x)\n",
    "\n",
    "y=arange(0,12,2)\n",
    "print(\"y=\",y)\n",
    "\n",
    "y=y+5\n",
    "print('y=',y)\n",
    "\n",
    "u=max(y)          #function\n",
    "print(\"u=\",u)\n",
    "\n",
    "v=sqrt(y)         #function\n",
    "print(\"v=\",v)\n",
    "\n",
    "z=v.view()         #method\n",
    "print(\"z=\",z)\n",
    "z=y.copy()         #method\n",
    "print(\"z=\",z)\n",
    "\n",
    "#-------------------------------------------------------------------------------------------------------------\n",
    "#multidimensional x=array([     [],[],[],[]      ])\n",
    "#access the elements: x[1,3] - 2nd row,4th column\n",
    "#slicing: x[0][0:2] -1st row, 1st and 2nd column.\n",
    "#multiplication x*y- element wise, dot(x,y)- actual matrix multiplication \n",
    "#x.ndim - gives dimensions of multiarray\n",
    "#x.shape -gives row and column numbers in a tuple. (r,c)\n",
    "#x.size -gives number of all elements...r*c\n",
    "#y=x.flatten() -converts from multi-D to single-D              #method\n",
    "#z=y.reshape(r,c) -converts single-D to 2D                     #method\n",
    "#z1=y.reshape(no.of 2d arrays,r,c)                             #method\n",
    "\n",
    "\n",
    "x=array([[1,3],[4,6],[7,9]])\n",
    "print(\"x is\",x)\n",
    "print(x.ndim)\n",
    "print(x.size)\n",
    "print(x.shape)\n",
    "y=x.flatten()\n",
    "print(\"flattten_x is y=>\",y)\n",
    "z=y.reshape(2,3)\n",
    "print(\"reshaped of y is \",z)\n",
    "z=y.reshape(3,2,1)\n",
    "print(\"3d matrix of y is\",z)\n",
    "\n",
    "#-------------------------------------------------------------------------------------------------------------\n",
    "#create matrix with help of array-    m=matrix(x)                       ...where x is an array\n",
    "#create matrix -                      m=matrix('1 2 3 ; 4 5 6 ; 7 8 9')\n",
    "#diagonal(m)                          #funtion\n",
    "#m.min() etc                          #method\n",
    "#matrix multiplication                m3=m1 * m2\n",
    "\n",
    "m=matrix(z)\n",
    "print(\"m is=\",m)\n",
    "m=matrix(\"1 2 3;4 5 6\")\n",
    "print(\"new m is=\",m)\n",
    "print(\"diagonal of m is=\",diagonal(m))\n",
    "print(\"minimum of matrix m is\",m.min())\n",
    "\n",
    "\n",
    "\n",
    "\n",
    "\n",
    "\n",
    "\n",
    "\n",
    "\n",
    "\n"
   ]
  },
  {
   "cell_type": "code",
   "execution_count": 56,
   "metadata": {
    "scrolled": true
   },
   "outputs": [
    {
     "name": "stdout",
     "output_type": "stream",
     "text": [
      "animesh jaiswal\n",
      "r= 6 t= 10 s= 50\n",
      "z= (60, -35, 5000)\n",
      "\n",
      "x= 26\n",
      "26\n",
      "\n",
      "black person\n",
      "aman\n",
      "{'age': 12, 'city': 'nagpur'}\n",
      "even is 5 and odd is 4\n",
      "anonymous funtion is 16\n",
      "[2, 4, 6, 8]\n",
      "[4, 16, 36, 64]\n",
      "120\n"
     ]
    }
   ],
   "source": [
    "#funtions\n",
    "\n",
    "\n",
    "def dark(a,b,d,c=10):          #formal_arguement  #2default(value of c) \n",
    "    x=a+b\n",
    "    y=a-b+d\n",
    "    s=a*b*c\n",
    "    \n",
    "    return x,y,s\n",
    "    \n",
    "r,t,s=dark(5,1,6)                #actual_arguement   #1position\n",
    "z=dark(a=10,d=5,b=50)            #3keyword\n",
    "print(\"r=\",r,\"t=\",t,\"s=\",s)\n",
    "print(\"z=\",z)\n",
    "print()\n",
    "\n",
    "#4variable_length\n",
    "def var(a,*b):\n",
    "    c=a\n",
    "    for i in b:\n",
    "        c=c+i\n",
    "    return c\n",
    "x=var(5,6,7,8)    \n",
    "print(\"x=\",x)\n",
    " #or\n",
    "def var(*b):\n",
    "    c=0\n",
    "    for i in b:\n",
    "        c=c+i\n",
    "    print(c)\n",
    "var(5,6,7,8)\n",
    "print()\n",
    "\n",
    "\n",
    "#5keyword+variable  \n",
    "#use of ** in variable length to accept keyword data in dictionary\n",
    "#x=globals()[\"a\"]\n",
    "nigga=\"black person\"\n",
    "def info(name,**data):\n",
    "    nigga=\"best friend\"\n",
    "    x=globals()[\"nigga\"]\n",
    "    print(x)\n",
    "    print(name)\n",
    "    print(data)\n",
    "info(\"aman\",age=12,city=\"nagpur\")\n",
    "\n",
    "\n",
    "##pass list to a function\n",
    "#even,odd example\n",
    "\n",
    "\n",
    "def count(lst):\n",
    "    even_count=0\n",
    "    odd_count=0\n",
    "    for i in lst:\n",
    "        if i%2==0:\n",
    "            even_count+=1\n",
    "        else:\n",
    "            odd_count+=1\n",
    "    return even_count,odd_count\n",
    "#x=input(\"enter the names in spaces\")\n",
    "#x1=x.split()\n",
    "lst=[23,45,33,21,20,88,86,54,64]\n",
    "even,odd=count(lst)\n",
    "print(\"even is {} and odd is {}\".format(even,odd))\n",
    "\n",
    "\n",
    "##anonymous funtions-lambda\n",
    "f= lambda a:a*a\n",
    "print(\"anonymous funtion is {}\".format(f(4)))\n",
    "\n",
    "## filter,map,reduce\n",
    "from functools import reduce\n",
    "nums=[1,2,3,4,5,6,7,8,9]\n",
    "evens=list(filter(lambda n:n%2==0,nums))         #filter using lambda function\n",
    "print(evens)\n",
    "\n",
    "doubles=list(map(lambda n:n*n,evens))            #map using lambda funcction\n",
    "print(doubles)\n",
    "\n",
    "\n",
    "\n",
    "def add_all(a,b):\n",
    "    return a+b   \n",
    "sums=reduce(add_all,doubles)                     #reduce using simple function\n",
    "print(sums)"
   ]
  },
  {
   "cell_type": "code",
   "execution_count": 57,
   "metadata": {},
   "outputs": [
    {
     "name": "stdout",
     "output_type": "stream",
     "text": [
      "__main__\n"
     ]
    }
   ],
   "source": [
    "print(__name__)"
   ]
  },
  {
   "cell_type": "code",
   "execution_count": 82,
   "metadata": {},
   "outputs": [
    {
     "name": "stdout",
     "output_type": "stream",
     "text": [
      "45 jessica\n",
      "this is class_5\n",
      "23 None computer_1\n",
      "\n",
      "jessica\n",
      "3\n",
      "1\n",
      "\n",
      "16gb memory, 240 gb disk, 48 mega pixel camera, 1 4 symbian\n",
      "16gb memory, 240 gb disk, 48 mega pixel camera, 3 4 symbian\n",
      "\n",
      "symbian\n",
      "android\n",
      "\n",
      "yes\n",
      "no yes\n",
      "no kya\n",
      "kya\n",
      "\n",
      "they are same\n",
      "1\n",
      "3\n",
      "\n",
      "kya\n",
      "\n",
      "Static methods have a limited use case because, like class methods or any other methods within a class, they cannot access the properties of the class itself. However, when you need a utility function that doesn't access any properties of a class but makes sense that it belongs to the class, we use static functions...this is static method example. It doesn't require any parameter to pass.As you can see,stat is empty. no self and no cls\n",
      "None\n",
      "Static methods have a limited use case because, like class methods or any other methods within a class, they cannot access the properties of the class itself. However, when you need a utility function that doesn't access any properties of a class but makes sense that it belongs to the class, we use static functions...this is static method example. It doesn't require any parameter to pass.As you can see,stat is empty. no self and no cls\n",
      "None\n",
      "\n",
      "not 48\n",
      "not 48 ,this is from inner class\n",
      "None\n"
     ]
    }
   ],
   "source": [
    "##oops\n",
    "##class-design of a phone -it has attributes(what i know?) and behaviour/methods/funtion (what i'll be doing?)\n",
    "##object is an instance of a class. 1000s (objects)of phones having same design(class)\n",
    "\n",
    "class computer:\n",
    "    smartphone=\"yes\"                  #variable defined outside init are class variables. \n",
    "    def __init__(self,a,b):           #variable defined in init are called instance variable    #instance method\n",
    "        self.a=a\n",
    "        self.b=b\n",
    "        self.jaan=\"symbian\"\n",
    "        #print(\"this is innit\")\n",
    "        self.inn=self.inner()         #defining object inn having class inner\n",
    "        \n",
    "    def config(self):                                                                          #instance method\n",
    "        print(\"16gb memory,\",\"240 gb disk,\",\"48 mega pixel camera,\",self.a,self.b,self.jaan)\n",
    "    \n",
    "    def compare_b(self,other):       #compare two objects                                      #instance method\n",
    "        if self.b==other.b:\n",
    "            return True\n",
    "        else:\n",
    "            return False \n",
    "     \n",
    "    def get_a(self):                 ##get/accessor                                            #instance method\n",
    "        return self.a\n",
    "    def set_a(self,newvalue):        ##setter/mutator                                          #instance method\n",
    "        self.a=newvalue\n",
    "    @classmethod    \n",
    "    def info(cls):                                                                             #class method\n",
    "        return cls.smartphone\n",
    "     \n",
    "    @staticmethod                                                                              #static method\n",
    "    def stat():\n",
    "        print(\"Static methods have a limited use case because, like class methods or any other methods within a class, they cannot access the properties of the class itself. However, when you need a utility function that doesn't access any properties of a class but makes sense that it belongs to the class, we use static functions...this is static method example. It doesn't require any parameter to pass.As you can see,stat is empty. no self and no cls\")\n",
    "    \n",
    "    \n",
    "    #inner class \n",
    "    class inner:\n",
    "        \n",
    "        def __init__(self):\n",
    "            self.cam=\"not 48\"\n",
    "                \n",
    "                \n",
    "        def inner_method(self):\n",
    "            print(self.cam,\",this is from inner class\")\n",
    "\n",
    "            \n",
    "            \n",
    "            \n",
    "            \n",
    "            \n",
    "            \n",
    "            \n",
    "            \n",
    "class computer5():                                     #just another class\n",
    "    def __init__(self,a,b):\n",
    "        super().__init__(a,b)\n",
    "        self.ever=\"computer_1\" \n",
    "    def mett_1(self):\n",
    "        print(\"this is class_5\")                \n",
    "        \n",
    "class computer2(computer):                              #single level inheritance A->B\n",
    "    def __init__(self,a,b):\n",
    "        super().__init__(a,b)      #this will inherit init of super class first i.e A. Then inherit itself.\n",
    "        self.i=\"jessica\"\n",
    "    def mett2(self):\n",
    "        print(\"this is class2\")\n",
    "        \n",
    "class computer3(computer2):                             #multi level inheritance A->B->C\n",
    "    def mett3(self):\n",
    "        print(\"this is class3\")\n",
    "        \n",
    "class computer4(computer5,computer):                   #multiple inheritance (A,B)->C\n",
    "    def __init__(self,a,b):\n",
    "        super().__init__(a,b)\n",
    "    \n",
    "    def mett4(self):\n",
    "        print(\"this is class4\")\n",
    "    \n",
    "c3=computer3(45,5)                               #A->B->C......But c2 will try to find init of subclass first(computer3).\n",
    "print(c3.a,c3.i)\n",
    "\n",
    "c4=computer4(23,76)\n",
    "print(c4.a,c4.mett_1(),c4.ever)           #init of only first class will be inherited in multiple.    c4.ever will not work.\n",
    "print()\n",
    "   \n",
    "c2=computer2(34,22)        \n",
    "print(c2.i)                \n",
    "                \n",
    "                \n",
    "                \n",
    "                \n",
    "motorola=computer(1,4)\n",
    "nokia=computer(3,4)\n",
    "print(nokia.a)\n",
    "print(motorola.a)\n",
    "print()\n",
    "\n",
    "#computer.config(motorola)                        #another method to call a method of object\n",
    "motorola.config()\n",
    "nokia.config()\n",
    "print()\n",
    "\n",
    "\n",
    "print(nokia.jaan)\n",
    "motorola.jaan=\"android\"\n",
    "print(motorola.jaan)\n",
    "print()\n",
    "\n",
    "\n",
    "print(nokia.smartphone)\n",
    "nokia.smartphone=\"no\"\n",
    "print(nokia.smartphone,motorola.smartphone)      #changing nokia.smartphone to \"no\"\n",
    "computer.smartphone=\"kya\"\n",
    "print(nokia.smartphone,motorola.smartphone)      #even after changing computer.smartphone to\"kya\" we gets nokia's as :\"no\" \n",
    "nokia=computer(3,4)                              #thats why we reassign again the nokia to class computer\n",
    "print(nokia.smartphone)\n",
    "print()\n",
    " \n",
    "    \n",
    "##compare\n",
    "if(motorola.compare_b(nokia)):                   #comapre_b is a method and we are passing another object nokia.\n",
    "    print(\"they are same\")    \n",
    "else:\n",
    "    print(\"they are different\")\n",
    "\n",
    "    \n",
    "##accessors and mutator methods\n",
    "print(motorola.get_a())\n",
    "motorola.set_a(3)\n",
    "print(motorola.a)\n",
    "print()\n",
    "\n",
    "\n",
    "##cls and class variable execution\n",
    "\n",
    "print(computer.info())\n",
    "print()\n",
    "\n",
    "\n",
    "##staticmethod\n",
    "print(computer.stat())\n",
    "print(nokia.stat())\n",
    "print()\n",
    "\n",
    "\n",
    "##inner\n",
    "print(nokia.inn.cam)\n",
    "print(nokia.inn.inner_method())"
   ]
  },
  {
   "cell_type": "code",
   "execution_count": 66,
   "metadata": {},
   "outputs": [
    {
     "name": "stdout",
     "output_type": "stream",
     "text": [
      "Entering C\n",
      "Entering A\n",
      "Entering B\n",
      "Leaving B\n",
      "Leaving A\n",
      "Entering B\n",
      "Leaving B\n",
      "Leaving C\n",
      "<__main__.C object at 0x00000264210155B0>\n"
     ]
    }
   ],
   "source": [
    "class A(object):\n",
    "    def __init__(self):\n",
    "        print(\"Entering A\")\n",
    "        super(A, self).__init__()\n",
    "        print(\"Leaving A\")\n",
    "\n",
    "class B(object):\n",
    "    def __init__(self):\n",
    "        print(\"Entering B\")\n",
    "        super(B, self).__init__()\n",
    "        print(\"Leaving B\")\n",
    "\n",
    "class C(A, B):\n",
    "    def __init__(self):\n",
    "        print(\"Entering C\")\n",
    "        A.__init__(self)\n",
    "        B.__init__(self)\n",
    "        print(\"Leaving C\")\n",
    "c=C()\n",
    "print(c)"
   ]
  },
  {
   "cell_type": "code",
   "execution_count": 15,
   "metadata": {},
   "outputs": [
    {
     "name": "stdout",
     "output_type": "stream",
     "text": [
      "1\n",
      "2\n",
      "3\n",
      "\n",
      "1\n",
      "2\n",
      "3\n",
      "\n",
      "no,cannot do that\n",
      "closed\n"
     ]
    }
   ],
   "source": [
    "#iterators\n",
    "\n",
    "\n",
    "x=[1,2,3]\n",
    "it=iter(x)\n",
    "\n",
    "print(next(it))\n",
    "print(it.__next__())\n",
    "print(next(it))\n",
    "print(\"\")\n",
    "\n",
    "\n",
    "#generators-----it is a function that will give u an iterator\n",
    "\n",
    "def gen():        \n",
    "    yield 1\n",
    "    yield 2\n",
    "    yield 3\n",
    "x=gen()\n",
    "print(next(x))\n",
    "print(x.__next__())\n",
    "print(next(x))\n",
    "print(\"\")\n",
    "\n",
    "#exception handling\n",
    "\n",
    "a=5\n",
    "b=0\n",
    "\n",
    "try:\n",
    "    print(a/b)\n",
    "except Exception:\n",
    "    print(\"no,cannot do that\")\n",
    "finally:\n",
    "    print(\"closed\")\n"
   ]
  },
  {
   "cell_type": "code",
   "execution_count": 75,
   "metadata": {},
   "outputs": [
    {
     "name": "stdout",
     "output_type": "stream",
     "text": [
      "this is arthur fucking shelby\n",
      "by the orders of peaky blinders\n",
      "this hotel is ours\n",
      "understande mate?\n",
      "do you understand?\n",
      "\n",
      "this is tommy shelby this is my home\n"
     ]
    }
   ],
   "source": [
    "##file handling---use rb,wb for img files.(read/write binary-r/w b)\n",
    " \n",
    "#open in read\n",
    "f=open('doc.txt','r')\n",
    "g=open(\"doc2.txt\",\"r\")\n",
    "print(f.read())\n",
    "print(\"\")\n",
    "\n",
    "\n",
    "#create in write\n",
    "h=open(\"doc2.txt\",\"w\")\n",
    "h.write(\"this is tommy shelby \")\n",
    "h.write(\"this is my home\")\n",
    "\n",
    "for data in g:\n",
    "    print(data)\n",
    "#print(g.readline())\n",
    "#print(g.readline())\n",
    "\n",
    "\n"
   ]
  },
  {
   "cell_type": "code",
   "execution_count": 77,
   "metadata": {},
   "outputs": [],
   "source": [
    "#copy file data\n",
    "f=open('doc.txt','r')\n",
    "k=open(\"doc3.txt\",\"w\")\n",
    "for data in f:\n",
    "    k.write(data)"
   ]
  },
  {
   "cell_type": "code",
   "execution_count": 27,
   "metadata": {},
   "outputs": [
    {
     "name": "stdout",
     "output_type": "stream",
     "text": [
      "[0, 1, 2, 3, 4, 5, 6, 7, 8]\n",
      "found at 6\n",
      "found at 5\n",
      "[8, 7, 6, 5, 4, 2, 1]\n"
     ]
    }
   ],
   "source": [
    "##linear search\n",
    "##sort using sorted(x)\n",
    "##buble sort\n",
    "x=[1,2,3,4,5,6,7,8,0]\n",
    "n=6\n",
    "d=sorted(x)\n",
    "print(d)\n",
    "\n",
    "##using loop\n",
    "for i,v in enumerate(x):\n",
    "    if v==n:\n",
    "        print(\"found at\",i+1)\n",
    "        break\n",
    "    else:\n",
    "        continue\n",
    "\n",
    "    print(\"not found\")\n",
    "    \n",
    "##using function    \n",
    "def search(x,n):\n",
    "    for i,v in enumerate(x):\n",
    "        if v==n:\n",
    "                print(\"found at\",i+1)\n",
    "                break\n",
    "        else:\n",
    "              continue\n",
    "        print(\"not found\")\n",
    "search(x,5);\n",
    "\n",
    "##bubble sort\n",
    "\n",
    "x=[5,4,6,7,2,1,8]\n",
    "for i in range(len(x)-1,0,-1):\n",
    "    for j in range(i):\n",
    "        if x[j]<x[j+1]:\n",
    "            x[j],x[j+1]=x[j+1],x[j]   #swapping\n",
    "            #temp=x[j]\n",
    "            #x[j]=x[j+1]\n",
    "            #x[j+1]=temp\n",
    "        else:\n",
    "            pass\n",
    "print(x)"
   ]
  },
  {
   "cell_type": "code",
   "execution_count": 2,
   "metadata": {},
   "outputs": [
    {
     "name": "stdout",
     "output_type": "stream",
     "text": [
      "this is bus1\n",
      "None\n",
      "this is bus2\n",
      "None\n",
      "this is bus3\n",
      "None\n"
     ]
    }
   ],
   "source": [
    "#polymorphism\n",
    "#duck typing\n",
    "\n",
    "class main_code1():              ## 3 main codes(classes),all having execute function.\n",
    "    def execute(self):\n",
    "         print(\"this is bus1\")\n",
    "j=main_code1()                  ##defining ide \n",
    "\n",
    "class main_code2():\n",
    "    def execute(self):\n",
    "        print(\"this is bus2\")\n",
    "k=main_code2()\n",
    "\n",
    "class main_code3():\n",
    "    def execute(self):\n",
    "        print(\"this is bus3\")\n",
    "l=main_code3()\n",
    "\n",
    "\n",
    "class laptop():               ## our object related class having ide and execute function.\n",
    "    def code(self,ide):       ##code funtion will recieve ide(object of other classes including codes to execute)\n",
    "        ide.execute()         ##running the execute code\n",
    "x=laptop()\n",
    "\n",
    "print(x.code(j))             ##running 3 different codes using same object x\n",
    "print(x.code(k))\n",
    "print(x.code(l))\n"
   ]
  },
  {
   "cell_type": "code",
   "execution_count": 135,
   "metadata": {},
   "outputs": [
    {
     "name": "stdout",
     "output_type": "stream",
     "text": [
      "118\n",
      "134\n",
      "True\n",
      "58 69\n"
     ]
    }
   ],
   "source": [
    "#operator overloading\n",
    "# __add__ , __str__, __gt__ etc\n",
    "class just():\n",
    "    \n",
    "    def __init__(self,m,n):\n",
    "        self.m=m\n",
    "        self.n=n\n",
    "    def __add__(self,other):\n",
    "        x=self.m+other.m\n",
    "        y=self.n+other.n\n",
    "        s=just(x,y)\n",
    "        return s\n",
    "    \n",
    "    def __gt__(self,other):\n",
    "        x=self.m+self.n\n",
    "        y=other.m+other.n\n",
    "        if x>y:\n",
    "            return True\n",
    "        else:\n",
    "            False\n",
    "            \n",
    "    def __str__(self):\n",
    "        return \"{} {}\".format(self.m, self.n)\n",
    "        \n",
    "            \n",
    "e=just(58,69)\n",
    "t=just(60,65)\n",
    "u= e+t\n",
    "print(u.m) \n",
    "print(u.n)\n",
    "\n",
    "print(e>t)   #__gt__\n",
    "print(e)     #__str__"
   ]
  },
  {
   "cell_type": "code",
   "execution_count": 151,
   "metadata": {},
   "outputs": [
    {
     "name": "stdout",
     "output_type": "stream",
     "text": [
      "            Artist                      Album  Released   Length  \\\n",
      "0  Michael Jackson                   Thriller      1982  0:42:19   \n",
      "1            AC/DC              Back in Black      1980  0:42:11   \n",
      "2       Pink Floyd  The Dark Side of the Moon      1973  0:42:49   \n",
      "3  Whitney Houston              The Bodyguard      1992  0:57:44   \n",
      "4        Meat Loaf            Bat Out of Hell      1977  0:46:33   \n",
      "\n",
      "                         Genre  Music Recording Sales (millions)  \\\n",
      "0               pop, rock, R&B                              46.0   \n",
      "1                    hard rock                              26.1   \n",
      "2             progressive rock                              24.2   \n",
      "3               R&B, soul, pop                              27.4   \n",
      "4  hard rock, progressive rock                              20.6   \n",
      "\n",
      "   Claimed Sales (millions) Released.1 Soundtrack  Rating  \n",
      "0                        65  30-Nov-82        NaN    10.0  \n",
      "1                        50  25-Jul-80        NaN     9.5  \n",
      "2                        45  01-Mar-73        NaN     9.0  \n",
      "3                        44  17-Nov-92          Y     8.5  \n",
      "4                        43  21-Oct-77        NaN     8.0  \n",
      "    Length           Artist\n",
      "0  0:42:19  Michael Jackson\n",
      "1  0:42:11            AC/DC\n",
      "2  0:42:49       Pink Floyd\n",
      "3  0:57:44  Whitney Houston\n",
      "4  0:46:33        Meat Loaf\n",
      "5  0:43:08           Eagles\n",
      "6  1:15:54         Bee Gees\n",
      "7  0:40:01    Fleetwood Mac\n"
     ]
    }
   ],
   "source": [
    "##pandas\n",
    "\n",
    "from pandas import *\n",
    "y = 'TopSellingAlbums.csv'         #storing path in a variable\n",
    "x=read_csv(y)                     #function read_csv(\"path of csv\")   ##here for excel use read_excel(\"path of excel\")\n",
    "print(x.head())                          #by default prints first five rows\n",
    "\n",
    "\n",
    "z=x[[\"Length\",\"Artist\"]]                #created a new df using existing df x,here mention the headers name of column. \n",
    "print(z)\n",
    "\n"
   ]
  },
  {
   "cell_type": "code",
   "execution_count": 167,
   "metadata": {},
   "outputs": [
    {
     "name": "stdout",
     "output_type": "stream",
     "text": [
      "            Band  MembersCount  Total Songs\n",
      "0    Linkin Park             4           21\n",
      "1          AC/DC             5           43\n",
      "2  One Direction             6           56\n",
      "\n",
      "21 ___this is output for iloc(row,column)\n",
      "Linkin Park ___this is output for loc(row,header name)\n",
      "\n",
      "          Band  MembersCount\n",
      "0  Linkin Park             4\n",
      "1        AC/DC             5\n",
      "\n",
      "            Band  MembersCount\n",
      "0    Linkin Park             4\n",
      "1          AC/DC             5\n",
      "2  One Direction             6\n"
     ]
    }
   ],
   "source": [
    "##pandas\n",
    "##create DataFrame using dictionary and DataFrame() funtion\n",
    "from pandas import *\n",
    "songs={\"Band\":[\"Linkin Park\",\"AC/DC\",\"One Direction\"], \"MembersCount\":[4,5,6],\"Total Songs\":[21,43,56]}\n",
    "x=DataFrame(songs)\n",
    "print(x.head())\n",
    "print(\"\")\n",
    "\n",
    "print(x.iloc[0,2],\"___this is output for iloc(row,column)\")\n",
    "print(x.loc[0,\"Band\"],\"___this is output for loc(row,header name)\")\n",
    "print(\"\")\n",
    "\n",
    "z=x.iloc[0:2,0:2]                ##iloc doesn't include last term\n",
    "print(z)\n",
    "print(\"\")\n",
    "\n",
    "z1=x.loc[0:2,\"Band\":\"MembersCount\"]   ##loc includes last term\n",
    "print(z1)"
   ]
  },
  {
   "cell_type": "code",
   "execution_count": 7,
   "metadata": {},
   "outputs": [
    {
     "data": {
      "text/plain": [
       "array([[1, 3, 4, 6, 7, 9]])"
      ]
     },
     "execution_count": 7,
     "metadata": {},
     "output_type": "execute_result"
    }
   ],
   "source": [
    "from numpy import *\n",
    "x=array([[1,3],[4,6],[7,9]])\n",
    "x.reshape(1,-1)"
   ]
  },
  {
   "cell_type": "code",
   "execution_count": null,
   "metadata": {},
   "outputs": [],
   "source": []
  }
 ],
 "metadata": {
  "kernelspec": {
   "display_name": "Python 3",
   "language": "python",
   "name": "python3"
  },
  "language_info": {
   "codemirror_mode": {
    "name": "ipython",
    "version": 3
   },
   "file_extension": ".py",
   "mimetype": "text/x-python",
   "name": "python",
   "nbconvert_exporter": "python",
   "pygments_lexer": "ipython3",
   "version": "3.8.8"
  }
 },
 "nbformat": 4,
 "nbformat_minor": 4
}
